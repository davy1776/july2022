{
 "cells": [
  {
   "cell_type": "code",
   "execution_count": 1,
   "id": "a8e5f6ee",
   "metadata": {},
   "outputs": [],
   "source": [
    "import pandas as pd"
   ]
  },
  {
   "cell_type": "code",
   "execution_count": 2,
   "id": "a3d1ec1a",
   "metadata": {},
   "outputs": [],
   "source": [
    "df = pd.read_csv('davy.csv')"
   ]
  },
  {
   "cell_type": "code",
   "execution_count": 3,
   "id": "4dc0a9ac",
   "metadata": {},
   "outputs": [
    {
     "data": {
      "text/html": [
       "<div>\n",
       "<style scoped>\n",
       "    .dataframe tbody tr th:only-of-type {\n",
       "        vertical-align: middle;\n",
       "    }\n",
       "\n",
       "    .dataframe tbody tr th {\n",
       "        vertical-align: top;\n",
       "    }\n",
       "\n",
       "    .dataframe thead th {\n",
       "        text-align: right;\n",
       "    }\n",
       "</style>\n",
       "<table border=\"1\" class=\"dataframe\">\n",
       "  <thead>\n",
       "    <tr style=\"text-align: right;\">\n",
       "      <th></th>\n",
       "      <th>ID_AEROLINEA</th>\n",
       "      <th>ID_AEROPUERTO</th>\n",
       "      <th>ID_MOVIMIENTO</th>\n",
       "      <th>DIA</th>\n",
       "    </tr>\n",
       "  </thead>\n",
       "  <tbody>\n",
       "    <tr>\n",
       "      <th>0</th>\n",
       "      <td>1</td>\n",
       "      <td>1</td>\n",
       "      <td>1</td>\n",
       "      <td>2021-05-02</td>\n",
       "    </tr>\n",
       "    <tr>\n",
       "      <th>1</th>\n",
       "      <td>2</td>\n",
       "      <td>1</td>\n",
       "      <td>1</td>\n",
       "      <td>2021-05-02</td>\n",
       "    </tr>\n",
       "    <tr>\n",
       "      <th>2</th>\n",
       "      <td>3</td>\n",
       "      <td>2</td>\n",
       "      <td>2</td>\n",
       "      <td>2021-05-02</td>\n",
       "    </tr>\n",
       "    <tr>\n",
       "      <th>3</th>\n",
       "      <td>4</td>\n",
       "      <td>3</td>\n",
       "      <td>2</td>\n",
       "      <td>2021-05-02</td>\n",
       "    </tr>\n",
       "    <tr>\n",
       "      <th>4</th>\n",
       "      <td>1</td>\n",
       "      <td>3</td>\n",
       "      <td>2</td>\n",
       "      <td>2021-05-02</td>\n",
       "    </tr>\n",
       "    <tr>\n",
       "      <th>5</th>\n",
       "      <td>2</td>\n",
       "      <td>1</td>\n",
       "      <td>1</td>\n",
       "      <td>2021-05-02</td>\n",
       "    </tr>\n",
       "    <tr>\n",
       "      <th>6</th>\n",
       "      <td>2</td>\n",
       "      <td>3</td>\n",
       "      <td>1</td>\n",
       "      <td>2021-05-04</td>\n",
       "    </tr>\n",
       "    <tr>\n",
       "      <th>7</th>\n",
       "      <td>3</td>\n",
       "      <td>4</td>\n",
       "      <td>1</td>\n",
       "      <td>2021-05-04</td>\n",
       "    </tr>\n",
       "    <tr>\n",
       "      <th>8</th>\n",
       "      <td>3</td>\n",
       "      <td>4</td>\n",
       "      <td>1</td>\n",
       "      <td>2021-05-04</td>\n",
       "    </tr>\n",
       "  </tbody>\n",
       "</table>\n",
       "</div>"
      ],
      "text/plain": [
       "   ID_AEROLINEA  ID_AEROPUERTO  ID_MOVIMIENTO         DIA\n",
       "0             1              1              1  2021-05-02\n",
       "1             2              1              1  2021-05-02\n",
       "2             3              2              2  2021-05-02\n",
       "3             4              3              2  2021-05-02\n",
       "4             1              3              2  2021-05-02\n",
       "5             2              1              1  2021-05-02\n",
       "6             2              3              1  2021-05-04\n",
       "7             3              4              1  2021-05-04\n",
       "8             3              4              1  2021-05-04"
      ]
     },
     "execution_count": 3,
     "metadata": {},
     "output_type": "execute_result"
    }
   ],
   "source": [
    "df"
   ]
  },
  {
   "cell_type": "code",
   "execution_count": 4,
   "id": "cd1100c9",
   "metadata": {},
   "outputs": [
    {
     "name": "stdout",
     "output_type": "stream",
     "text": [
      "<class 'pandas.core.frame.DataFrame'>\n",
      "RangeIndex: 9 entries, 0 to 8\n",
      "Data columns (total 4 columns):\n",
      " #   Column         Non-Null Count  Dtype \n",
      "---  ------         --------------  ----- \n",
      " 0   ID_AEROLINEA   9 non-null      int64 \n",
      " 1   ID_AEROPUERTO  9 non-null      int64 \n",
      " 2   ID_MOVIMIENTO  9 non-null      int64 \n",
      " 3   DIA            9 non-null      object\n",
      "dtypes: int64(3), object(1)\n",
      "memory usage: 416.0+ bytes\n"
     ]
    }
   ],
   "source": [
    "df.info()"
   ]
  },
  {
   "cell_type": "code",
   "execution_count": 5,
   "id": "bb984342",
   "metadata": {},
   "outputs": [],
   "source": [
    "dic_AEROLINEA = {1 : 'Volaris', 2 : 'Aeromar', 3 : 'Interjet', 4 : 'Aeromexico'}"
   ]
  },
  {
   "cell_type": "code",
   "execution_count": 6,
   "id": "836157a3",
   "metadata": {},
   "outputs": [
    {
     "data": {
      "text/plain": [
       "{1: 'Volaris', 2: 'Aeromar', 3: 'Interjet', 4: 'Aeromexico'}"
      ]
     },
     "execution_count": 6,
     "metadata": {},
     "output_type": "execute_result"
    }
   ],
   "source": [
    "dic_AEROLINEA"
   ]
  },
  {
   "cell_type": "code",
   "execution_count": 7,
   "id": "6ea097f8",
   "metadata": {},
   "outputs": [],
   "source": [
    "df['ID_AEROLINEA'] = df['ID_AEROLINEA'].map(dic_AEROLINEA)"
   ]
  },
  {
   "cell_type": "code",
   "execution_count": 8,
   "id": "475784db",
   "metadata": {},
   "outputs": [
    {
     "data": {
      "text/html": [
       "<div>\n",
       "<style scoped>\n",
       "    .dataframe tbody tr th:only-of-type {\n",
       "        vertical-align: middle;\n",
       "    }\n",
       "\n",
       "    .dataframe tbody tr th {\n",
       "        vertical-align: top;\n",
       "    }\n",
       "\n",
       "    .dataframe thead th {\n",
       "        text-align: right;\n",
       "    }\n",
       "</style>\n",
       "<table border=\"1\" class=\"dataframe\">\n",
       "  <thead>\n",
       "    <tr style=\"text-align: right;\">\n",
       "      <th></th>\n",
       "      <th>ID_AEROLINEA</th>\n",
       "      <th>ID_AEROPUERTO</th>\n",
       "      <th>ID_MOVIMIENTO</th>\n",
       "      <th>DIA</th>\n",
       "    </tr>\n",
       "  </thead>\n",
       "  <tbody>\n",
       "    <tr>\n",
       "      <th>0</th>\n",
       "      <td>Volaris</td>\n",
       "      <td>1</td>\n",
       "      <td>1</td>\n",
       "      <td>2021-05-02</td>\n",
       "    </tr>\n",
       "    <tr>\n",
       "      <th>1</th>\n",
       "      <td>Aeromar</td>\n",
       "      <td>1</td>\n",
       "      <td>1</td>\n",
       "      <td>2021-05-02</td>\n",
       "    </tr>\n",
       "    <tr>\n",
       "      <th>2</th>\n",
       "      <td>Interjet</td>\n",
       "      <td>2</td>\n",
       "      <td>2</td>\n",
       "      <td>2021-05-02</td>\n",
       "    </tr>\n",
       "    <tr>\n",
       "      <th>3</th>\n",
       "      <td>Aeromexico</td>\n",
       "      <td>3</td>\n",
       "      <td>2</td>\n",
       "      <td>2021-05-02</td>\n",
       "    </tr>\n",
       "    <tr>\n",
       "      <th>4</th>\n",
       "      <td>Volaris</td>\n",
       "      <td>3</td>\n",
       "      <td>2</td>\n",
       "      <td>2021-05-02</td>\n",
       "    </tr>\n",
       "    <tr>\n",
       "      <th>5</th>\n",
       "      <td>Aeromar</td>\n",
       "      <td>1</td>\n",
       "      <td>1</td>\n",
       "      <td>2021-05-02</td>\n",
       "    </tr>\n",
       "    <tr>\n",
       "      <th>6</th>\n",
       "      <td>Aeromar</td>\n",
       "      <td>3</td>\n",
       "      <td>1</td>\n",
       "      <td>2021-05-04</td>\n",
       "    </tr>\n",
       "    <tr>\n",
       "      <th>7</th>\n",
       "      <td>Interjet</td>\n",
       "      <td>4</td>\n",
       "      <td>1</td>\n",
       "      <td>2021-05-04</td>\n",
       "    </tr>\n",
       "    <tr>\n",
       "      <th>8</th>\n",
       "      <td>Interjet</td>\n",
       "      <td>4</td>\n",
       "      <td>1</td>\n",
       "      <td>2021-05-04</td>\n",
       "    </tr>\n",
       "  </tbody>\n",
       "</table>\n",
       "</div>"
      ],
      "text/plain": [
       "  ID_AEROLINEA  ID_AEROPUERTO  ID_MOVIMIENTO         DIA\n",
       "0      Volaris              1              1  2021-05-02\n",
       "1      Aeromar              1              1  2021-05-02\n",
       "2     Interjet              2              2  2021-05-02\n",
       "3   Aeromexico              3              2  2021-05-02\n",
       "4      Volaris              3              2  2021-05-02\n",
       "5      Aeromar              1              1  2021-05-02\n",
       "6      Aeromar              3              1  2021-05-04\n",
       "7     Interjet              4              1  2021-05-04\n",
       "8     Interjet              4              1  2021-05-04"
      ]
     },
     "execution_count": 8,
     "metadata": {},
     "output_type": "execute_result"
    }
   ],
   "source": [
    "df"
   ]
  },
  {
   "cell_type": "code",
   "execution_count": 9,
   "id": "cb2b6b83",
   "metadata": {},
   "outputs": [],
   "source": [
    "dic_AEROPUERTO = {1 : 'Benito Juarez', 2 : 'Guanajuato', 3 : 'La paz', 4 : 'Oaxaca'}"
   ]
  },
  {
   "cell_type": "code",
   "execution_count": 10,
   "id": "dff22554",
   "metadata": {},
   "outputs": [
    {
     "data": {
      "text/plain": [
       "{1: 'Benito Juarez', 2: 'Guanajuato', 3: 'La paz', 4: 'Oaxaca'}"
      ]
     },
     "execution_count": 10,
     "metadata": {},
     "output_type": "execute_result"
    }
   ],
   "source": [
    "dic_AEROPUERTO"
   ]
  },
  {
   "cell_type": "code",
   "execution_count": 11,
   "id": "7a075037",
   "metadata": {},
   "outputs": [],
   "source": [
    "df['ID_AEROPUERTO'] = df['ID_AEROPUERTO'].map(dic_AEROPUERTO)"
   ]
  },
  {
   "cell_type": "code",
   "execution_count": 12,
   "id": "b3dceee4",
   "metadata": {},
   "outputs": [
    {
     "data": {
      "text/plain": [
       "0    Benito Juarez\n",
       "1    Benito Juarez\n",
       "2       Guanajuato\n",
       "3           La paz\n",
       "4           La paz\n",
       "5    Benito Juarez\n",
       "6           La paz\n",
       "7           Oaxaca\n",
       "8           Oaxaca\n",
       "Name: ID_AEROPUERTO, dtype: object"
      ]
     },
     "execution_count": 12,
     "metadata": {},
     "output_type": "execute_result"
    }
   ],
   "source": [
    "df['ID_AEROPUERTO']"
   ]
  },
  {
   "cell_type": "code",
   "execution_count": 13,
   "id": "882cc952",
   "metadata": {},
   "outputs": [],
   "source": [
    "dic_ID_MOVIMIENTO = {1: 'Salida', 2: 'Llegada'}"
   ]
  },
  {
   "cell_type": "code",
   "execution_count": 14,
   "id": "9887e3b1",
   "metadata": {},
   "outputs": [
    {
     "data": {
      "text/plain": [
       "{1: 'Salida', 2: 'Llegada'}"
      ]
     },
     "execution_count": 14,
     "metadata": {},
     "output_type": "execute_result"
    }
   ],
   "source": [
    "dic_ID_MOVIMIENTO"
   ]
  },
  {
   "cell_type": "code",
   "execution_count": 15,
   "id": "9c875ada",
   "metadata": {},
   "outputs": [],
   "source": [
    "df['ID_MOVIMIENTO'] = df['ID_MOVIMIENTO'].map(dic_ID_MOVIMIENTO)"
   ]
  },
  {
   "cell_type": "code",
   "execution_count": 16,
   "id": "c77655dc",
   "metadata": {},
   "outputs": [
    {
     "data": {
      "text/plain": [
       "0     Salida\n",
       "1     Salida\n",
       "2    Llegada\n",
       "3    Llegada\n",
       "4    Llegada\n",
       "5     Salida\n",
       "6     Salida\n",
       "7     Salida\n",
       "8     Salida\n",
       "Name: ID_MOVIMIENTO, dtype: object"
      ]
     },
     "execution_count": 16,
     "metadata": {},
     "output_type": "execute_result"
    }
   ],
   "source": [
    "df['ID_MOVIMIENTO']"
   ]
  },
  {
   "cell_type": "code",
   "execution_count": 17,
   "id": "fcfd2e65",
   "metadata": {},
   "outputs": [
    {
     "data": {
      "text/html": [
       "<div>\n",
       "<style scoped>\n",
       "    .dataframe tbody tr th:only-of-type {\n",
       "        vertical-align: middle;\n",
       "    }\n",
       "\n",
       "    .dataframe tbody tr th {\n",
       "        vertical-align: top;\n",
       "    }\n",
       "\n",
       "    .dataframe thead th {\n",
       "        text-align: right;\n",
       "    }\n",
       "</style>\n",
       "<table border=\"1\" class=\"dataframe\">\n",
       "  <thead>\n",
       "    <tr style=\"text-align: right;\">\n",
       "      <th></th>\n",
       "      <th>ID_AEROLINEA</th>\n",
       "      <th>ID_AEROPUERTO</th>\n",
       "      <th>ID_MOVIMIENTO</th>\n",
       "      <th>DIA</th>\n",
       "    </tr>\n",
       "  </thead>\n",
       "  <tbody>\n",
       "    <tr>\n",
       "      <th>0</th>\n",
       "      <td>Volaris</td>\n",
       "      <td>Benito Juarez</td>\n",
       "      <td>Salida</td>\n",
       "      <td>2021-05-02</td>\n",
       "    </tr>\n",
       "    <tr>\n",
       "      <th>1</th>\n",
       "      <td>Aeromar</td>\n",
       "      <td>Benito Juarez</td>\n",
       "      <td>Salida</td>\n",
       "      <td>2021-05-02</td>\n",
       "    </tr>\n",
       "    <tr>\n",
       "      <th>2</th>\n",
       "      <td>Interjet</td>\n",
       "      <td>Guanajuato</td>\n",
       "      <td>Llegada</td>\n",
       "      <td>2021-05-02</td>\n",
       "    </tr>\n",
       "    <tr>\n",
       "      <th>3</th>\n",
       "      <td>Aeromexico</td>\n",
       "      <td>La paz</td>\n",
       "      <td>Llegada</td>\n",
       "      <td>2021-05-02</td>\n",
       "    </tr>\n",
       "    <tr>\n",
       "      <th>4</th>\n",
       "      <td>Volaris</td>\n",
       "      <td>La paz</td>\n",
       "      <td>Llegada</td>\n",
       "      <td>2021-05-02</td>\n",
       "    </tr>\n",
       "    <tr>\n",
       "      <th>5</th>\n",
       "      <td>Aeromar</td>\n",
       "      <td>Benito Juarez</td>\n",
       "      <td>Salida</td>\n",
       "      <td>2021-05-02</td>\n",
       "    </tr>\n",
       "    <tr>\n",
       "      <th>6</th>\n",
       "      <td>Aeromar</td>\n",
       "      <td>La paz</td>\n",
       "      <td>Salida</td>\n",
       "      <td>2021-05-04</td>\n",
       "    </tr>\n",
       "    <tr>\n",
       "      <th>7</th>\n",
       "      <td>Interjet</td>\n",
       "      <td>Oaxaca</td>\n",
       "      <td>Salida</td>\n",
       "      <td>2021-05-04</td>\n",
       "    </tr>\n",
       "    <tr>\n",
       "      <th>8</th>\n",
       "      <td>Interjet</td>\n",
       "      <td>Oaxaca</td>\n",
       "      <td>Salida</td>\n",
       "      <td>2021-05-04</td>\n",
       "    </tr>\n",
       "  </tbody>\n",
       "</table>\n",
       "</div>"
      ],
      "text/plain": [
       "  ID_AEROLINEA  ID_AEROPUERTO ID_MOVIMIENTO         DIA\n",
       "0      Volaris  Benito Juarez        Salida  2021-05-02\n",
       "1      Aeromar  Benito Juarez        Salida  2021-05-02\n",
       "2     Interjet     Guanajuato       Llegada  2021-05-02\n",
       "3   Aeromexico         La paz       Llegada  2021-05-02\n",
       "4      Volaris         La paz       Llegada  2021-05-02\n",
       "5      Aeromar  Benito Juarez        Salida  2021-05-02\n",
       "6      Aeromar         La paz        Salida  2021-05-04\n",
       "7     Interjet         Oaxaca        Salida  2021-05-04\n",
       "8     Interjet         Oaxaca        Salida  2021-05-04"
      ]
     },
     "execution_count": 17,
     "metadata": {},
     "output_type": "execute_result"
    }
   ],
   "source": [
    "df"
   ]
  },
  {
   "cell_type": "code",
   "execution_count": 18,
   "id": "5c839be0",
   "metadata": {},
   "outputs": [
    {
     "data": {
      "text/plain": [
       "ID_AEROLINEA     object\n",
       "ID_AEROPUERTO    object\n",
       "ID_MOVIMIENTO    object\n",
       "DIA              object\n",
       "dtype: object"
      ]
     },
     "execution_count": 18,
     "metadata": {},
     "output_type": "execute_result"
    }
   ],
   "source": [
    "df.dtypes"
   ]
  },
  {
   "cell_type": "code",
   "execution_count": 19,
   "id": "9b38e0d4",
   "metadata": {},
   "outputs": [],
   "source": [
    "# cambiar nombre de columnas"
   ]
  },
  {
   "cell_type": "code",
   "execution_count": 20,
   "id": "eaf118e4",
   "metadata": {},
   "outputs": [],
   "source": [
    "df.rename(columns = {'ID_AEROLINEA' : 'aerolinea', 'ID_AEROPUERTO' : 'aeropuerto', 'ID_MOVIMIENTO' : 'movimiento', 'DIA' : 'fecha'}, inplace = True)"
   ]
  },
  {
   "cell_type": "code",
   "execution_count": 21,
   "id": "15f07630",
   "metadata": {},
   "outputs": [
    {
     "data": {
      "text/html": [
       "<div>\n",
       "<style scoped>\n",
       "    .dataframe tbody tr th:only-of-type {\n",
       "        vertical-align: middle;\n",
       "    }\n",
       "\n",
       "    .dataframe tbody tr th {\n",
       "        vertical-align: top;\n",
       "    }\n",
       "\n",
       "    .dataframe thead th {\n",
       "        text-align: right;\n",
       "    }\n",
       "</style>\n",
       "<table border=\"1\" class=\"dataframe\">\n",
       "  <thead>\n",
       "    <tr style=\"text-align: right;\">\n",
       "      <th></th>\n",
       "      <th>aerolinea</th>\n",
       "      <th>aeropuerto</th>\n",
       "      <th>movimiento</th>\n",
       "      <th>fecha</th>\n",
       "    </tr>\n",
       "  </thead>\n",
       "  <tbody>\n",
       "    <tr>\n",
       "      <th>0</th>\n",
       "      <td>Volaris</td>\n",
       "      <td>Benito Juarez</td>\n",
       "      <td>Salida</td>\n",
       "      <td>2021-05-02</td>\n",
       "    </tr>\n",
       "    <tr>\n",
       "      <th>1</th>\n",
       "      <td>Aeromar</td>\n",
       "      <td>Benito Juarez</td>\n",
       "      <td>Salida</td>\n",
       "      <td>2021-05-02</td>\n",
       "    </tr>\n",
       "    <tr>\n",
       "      <th>2</th>\n",
       "      <td>Interjet</td>\n",
       "      <td>Guanajuato</td>\n",
       "      <td>Llegada</td>\n",
       "      <td>2021-05-02</td>\n",
       "    </tr>\n",
       "    <tr>\n",
       "      <th>3</th>\n",
       "      <td>Aeromexico</td>\n",
       "      <td>La paz</td>\n",
       "      <td>Llegada</td>\n",
       "      <td>2021-05-02</td>\n",
       "    </tr>\n",
       "    <tr>\n",
       "      <th>4</th>\n",
       "      <td>Volaris</td>\n",
       "      <td>La paz</td>\n",
       "      <td>Llegada</td>\n",
       "      <td>2021-05-02</td>\n",
       "    </tr>\n",
       "    <tr>\n",
       "      <th>5</th>\n",
       "      <td>Aeromar</td>\n",
       "      <td>Benito Juarez</td>\n",
       "      <td>Salida</td>\n",
       "      <td>2021-05-02</td>\n",
       "    </tr>\n",
       "    <tr>\n",
       "      <th>6</th>\n",
       "      <td>Aeromar</td>\n",
       "      <td>La paz</td>\n",
       "      <td>Salida</td>\n",
       "      <td>2021-05-04</td>\n",
       "    </tr>\n",
       "    <tr>\n",
       "      <th>7</th>\n",
       "      <td>Interjet</td>\n",
       "      <td>Oaxaca</td>\n",
       "      <td>Salida</td>\n",
       "      <td>2021-05-04</td>\n",
       "    </tr>\n",
       "    <tr>\n",
       "      <th>8</th>\n",
       "      <td>Interjet</td>\n",
       "      <td>Oaxaca</td>\n",
       "      <td>Salida</td>\n",
       "      <td>2021-05-04</td>\n",
       "    </tr>\n",
       "  </tbody>\n",
       "</table>\n",
       "</div>"
      ],
      "text/plain": [
       "    aerolinea     aeropuerto movimiento       fecha\n",
       "0     Volaris  Benito Juarez     Salida  2021-05-02\n",
       "1     Aeromar  Benito Juarez     Salida  2021-05-02\n",
       "2    Interjet     Guanajuato    Llegada  2021-05-02\n",
       "3  Aeromexico         La paz    Llegada  2021-05-02\n",
       "4     Volaris         La paz    Llegada  2021-05-02\n",
       "5     Aeromar  Benito Juarez     Salida  2021-05-02\n",
       "6     Aeromar         La paz     Salida  2021-05-04\n",
       "7    Interjet         Oaxaca     Salida  2021-05-04\n",
       "8    Interjet         Oaxaca     Salida  2021-05-04"
      ]
     },
     "execution_count": 21,
     "metadata": {},
     "output_type": "execute_result"
    }
   ],
   "source": [
    "df"
   ]
  },
  {
   "cell_type": "code",
   "execution_count": 22,
   "id": "d0e9c2fc",
   "metadata": {},
   "outputs": [],
   "source": [
    "df['fecha'] = pd.to_datetime(df['fecha'])"
   ]
  },
  {
   "cell_type": "code",
   "execution_count": 23,
   "id": "0f4baf2e",
   "metadata": {},
   "outputs": [
    {
     "data": {
      "text/plain": [
       "aerolinea             object\n",
       "aeropuerto            object\n",
       "movimiento            object\n",
       "fecha         datetime64[ns]\n",
       "dtype: object"
      ]
     },
     "execution_count": 23,
     "metadata": {},
     "output_type": "execute_result"
    }
   ],
   "source": [
    "df.dtypes"
   ]
  },
  {
   "cell_type": "code",
   "execution_count": 24,
   "id": "d2bedcdf",
   "metadata": {},
   "outputs": [
    {
     "data": {
      "text/plain": [
       "Benito Juarez    3\n",
       "La paz           3\n",
       "Oaxaca           2\n",
       "Guanajuato       1\n",
       "Name: aeropuerto, dtype: int64"
      ]
     },
     "execution_count": 24,
     "metadata": {},
     "output_type": "execute_result"
    }
   ],
   "source": [
    "# ¿Cuál es el nombre aeropuerto que ha tenido mayor movimiento durante el año?\n",
    "\n",
    "df['aeropuerto'].value_counts()"
   ]
  },
  {
   "cell_type": "code",
   "execution_count": 25,
   "id": "5fb4b2c1",
   "metadata": {},
   "outputs": [
    {
     "data": {
      "text/plain": [
       "0    Benito Juarez\n",
       "1           La paz\n",
       "dtype: object"
      ]
     },
     "execution_count": 25,
     "metadata": {},
     "output_type": "execute_result"
    }
   ],
   "source": [
    "df['aeropuerto'].mode()"
   ]
  },
  {
   "cell_type": "code",
   "execution_count": 26,
   "id": "c0d89d61",
   "metadata": {},
   "outputs": [
    {
     "data": {
      "text/plain": [
       "Aeromar       3\n",
       "Interjet      3\n",
       "Volaris       2\n",
       "Aeromexico    1\n",
       "Name: aerolinea, dtype: int64"
      ]
     },
     "execution_count": 26,
     "metadata": {},
     "output_type": "execute_result"
    }
   ],
   "source": [
    "# ¿Cuál es el nombre aerolínea que ha realizado mayor número de vuelos durante el año?\n",
    "\n",
    "df['aerolinea'].value_counts()"
   ]
  },
  {
   "cell_type": "code",
   "execution_count": 27,
   "id": "7046d81f",
   "metadata": {},
   "outputs": [
    {
     "data": {
      "text/plain": [
       "0     Aeromar\n",
       "1    Interjet\n",
       "dtype: object"
      ]
     },
     "execution_count": 27,
     "metadata": {},
     "output_type": "execute_result"
    }
   ],
   "source": [
    "df['aerolinea'].mode()"
   ]
  },
  {
   "cell_type": "code",
   "execution_count": 28,
   "id": "98279199",
   "metadata": {},
   "outputs": [
    {
     "data": {
      "text/plain": [
       "2021-05-02    6\n",
       "2021-05-04    3\n",
       "Name: fecha, dtype: int64"
      ]
     },
     "execution_count": 28,
     "metadata": {},
     "output_type": "execute_result"
    }
   ],
   "source": [
    "# ¿En qué día se han tenido mayor número de vuelos?\n",
    "\n",
    "df['fecha'].value_counts()"
   ]
  },
  {
   "cell_type": "code",
   "execution_count": 29,
   "id": "f089102b",
   "metadata": {},
   "outputs": [],
   "source": [
    "# 4. ¿Cuáles son las aerolíneas que tienen mas de 2 vuelos por día?"
   ]
  },
  {
   "cell_type": "code",
   "execution_count": 30,
   "id": "fd40455d",
   "metadata": {},
   "outputs": [
    {
     "data": {
      "text/plain": [
       "0    False\n",
       "1    False\n",
       "2    False\n",
       "3    False\n",
       "4    False\n",
       "5    False\n",
       "6     True\n",
       "7     True\n",
       "8     True\n",
       "Name: fecha, dtype: bool"
      ]
     },
     "execution_count": 30,
     "metadata": {},
     "output_type": "execute_result"
    }
   ],
   "source": [
    "df['fecha'] == '2021-05-04'"
   ]
  },
  {
   "cell_type": "code",
   "execution_count": 31,
   "id": "4afee0ed",
   "metadata": {},
   "outputs": [
    {
     "data": {
      "text/plain": [
       "0     True\n",
       "1     True\n",
       "2     True\n",
       "3     True\n",
       "4     True\n",
       "5     True\n",
       "6    False\n",
       "7    False\n",
       "8    False\n",
       "Name: fecha, dtype: bool"
      ]
     },
     "execution_count": 31,
     "metadata": {},
     "output_type": "execute_result"
    }
   ],
   "source": [
    "df['fecha'] == '2021-05-02'"
   ]
  },
  {
   "cell_type": "code",
   "execution_count": 32,
   "id": "46ab793f",
   "metadata": {},
   "outputs": [
    {
     "data": {
      "text/html": [
       "<div>\n",
       "<style scoped>\n",
       "    .dataframe tbody tr th:only-of-type {\n",
       "        vertical-align: middle;\n",
       "    }\n",
       "\n",
       "    .dataframe tbody tr th {\n",
       "        vertical-align: top;\n",
       "    }\n",
       "\n",
       "    .dataframe thead th {\n",
       "        text-align: right;\n",
       "    }\n",
       "</style>\n",
       "<table border=\"1\" class=\"dataframe\">\n",
       "  <thead>\n",
       "    <tr style=\"text-align: right;\">\n",
       "      <th></th>\n",
       "      <th>aerolinea</th>\n",
       "      <th>aeropuerto</th>\n",
       "      <th>movimiento</th>\n",
       "      <th>fecha</th>\n",
       "    </tr>\n",
       "  </thead>\n",
       "  <tbody>\n",
       "    <tr>\n",
       "      <th>0</th>\n",
       "      <td>Volaris</td>\n",
       "      <td>Benito Juarez</td>\n",
       "      <td>Salida</td>\n",
       "      <td>2021-05-02</td>\n",
       "    </tr>\n",
       "    <tr>\n",
       "      <th>1</th>\n",
       "      <td>Aeromar</td>\n",
       "      <td>Benito Juarez</td>\n",
       "      <td>Salida</td>\n",
       "      <td>2021-05-02</td>\n",
       "    </tr>\n",
       "    <tr>\n",
       "      <th>2</th>\n",
       "      <td>Interjet</td>\n",
       "      <td>Guanajuato</td>\n",
       "      <td>Llegada</td>\n",
       "      <td>2021-05-02</td>\n",
       "    </tr>\n",
       "    <tr>\n",
       "      <th>3</th>\n",
       "      <td>Aeromexico</td>\n",
       "      <td>La paz</td>\n",
       "      <td>Llegada</td>\n",
       "      <td>2021-05-02</td>\n",
       "    </tr>\n",
       "    <tr>\n",
       "      <th>4</th>\n",
       "      <td>Volaris</td>\n",
       "      <td>La paz</td>\n",
       "      <td>Llegada</td>\n",
       "      <td>2021-05-02</td>\n",
       "    </tr>\n",
       "    <tr>\n",
       "      <th>5</th>\n",
       "      <td>Aeromar</td>\n",
       "      <td>Benito Juarez</td>\n",
       "      <td>Salida</td>\n",
       "      <td>2021-05-02</td>\n",
       "    </tr>\n",
       "    <tr>\n",
       "      <th>6</th>\n",
       "      <td>Aeromar</td>\n",
       "      <td>La paz</td>\n",
       "      <td>Salida</td>\n",
       "      <td>2021-05-04</td>\n",
       "    </tr>\n",
       "    <tr>\n",
       "      <th>7</th>\n",
       "      <td>Interjet</td>\n",
       "      <td>Oaxaca</td>\n",
       "      <td>Salida</td>\n",
       "      <td>2021-05-04</td>\n",
       "    </tr>\n",
       "    <tr>\n",
       "      <th>8</th>\n",
       "      <td>Interjet</td>\n",
       "      <td>Oaxaca</td>\n",
       "      <td>Salida</td>\n",
       "      <td>2021-05-04</td>\n",
       "    </tr>\n",
       "  </tbody>\n",
       "</table>\n",
       "</div>"
      ],
      "text/plain": [
       "    aerolinea     aeropuerto movimiento      fecha\n",
       "0     Volaris  Benito Juarez     Salida 2021-05-02\n",
       "1     Aeromar  Benito Juarez     Salida 2021-05-02\n",
       "2    Interjet     Guanajuato    Llegada 2021-05-02\n",
       "3  Aeromexico         La paz    Llegada 2021-05-02\n",
       "4     Volaris         La paz    Llegada 2021-05-02\n",
       "5     Aeromar  Benito Juarez     Salida 2021-05-02\n",
       "6     Aeromar         La paz     Salida 2021-05-04\n",
       "7    Interjet         Oaxaca     Salida 2021-05-04\n",
       "8    Interjet         Oaxaca     Salida 2021-05-04"
      ]
     },
     "execution_count": 32,
     "metadata": {},
     "output_type": "execute_result"
    }
   ],
   "source": [
    "df"
   ]
  },
  {
   "cell_type": "code",
   "execution_count": 33,
   "id": "edf0358c",
   "metadata": {},
   "outputs": [],
   "source": [
    "# primera fecha"
   ]
  },
  {
   "cell_type": "code",
   "execution_count": 34,
   "id": "5242ec53",
   "metadata": {},
   "outputs": [
    {
     "data": {
      "text/html": [
       "<div>\n",
       "<style scoped>\n",
       "    .dataframe tbody tr th:only-of-type {\n",
       "        vertical-align: middle;\n",
       "    }\n",
       "\n",
       "    .dataframe tbody tr th {\n",
       "        vertical-align: top;\n",
       "    }\n",
       "\n",
       "    .dataframe thead th {\n",
       "        text-align: right;\n",
       "    }\n",
       "</style>\n",
       "<table border=\"1\" class=\"dataframe\">\n",
       "  <thead>\n",
       "    <tr style=\"text-align: right;\">\n",
       "      <th></th>\n",
       "      <th>aerolinea</th>\n",
       "      <th>aeropuerto</th>\n",
       "      <th>movimiento</th>\n",
       "      <th>fecha</th>\n",
       "    </tr>\n",
       "  </thead>\n",
       "  <tbody>\n",
       "    <tr>\n",
       "      <th>6</th>\n",
       "      <td>Aeromar</td>\n",
       "      <td>La paz</td>\n",
       "      <td>Salida</td>\n",
       "      <td>2021-05-04</td>\n",
       "    </tr>\n",
       "    <tr>\n",
       "      <th>7</th>\n",
       "      <td>Interjet</td>\n",
       "      <td>Oaxaca</td>\n",
       "      <td>Salida</td>\n",
       "      <td>2021-05-04</td>\n",
       "    </tr>\n",
       "    <tr>\n",
       "      <th>8</th>\n",
       "      <td>Interjet</td>\n",
       "      <td>Oaxaca</td>\n",
       "      <td>Salida</td>\n",
       "      <td>2021-05-04</td>\n",
       "    </tr>\n",
       "  </tbody>\n",
       "</table>\n",
       "</div>"
      ],
      "text/plain": [
       "  aerolinea aeropuerto movimiento      fecha\n",
       "6   Aeromar     La paz     Salida 2021-05-04\n",
       "7  Interjet     Oaxaca     Salida 2021-05-04\n",
       "8  Interjet     Oaxaca     Salida 2021-05-04"
      ]
     },
     "execution_count": 34,
     "metadata": {},
     "output_type": "execute_result"
    }
   ],
   "source": [
    "df[df['fecha'] == '2021-05-04']"
   ]
  },
  {
   "cell_type": "code",
   "execution_count": 35,
   "id": "e2260106",
   "metadata": {},
   "outputs": [
    {
     "data": {
      "text/plain": [
       "6     Aeromar\n",
       "7    Interjet\n",
       "8    Interjet\n",
       "Name: aerolinea, dtype: object"
      ]
     },
     "execution_count": 35,
     "metadata": {},
     "output_type": "execute_result"
    }
   ],
   "source": [
    "df[df['fecha'] == '2021-05-04']['aerolinea']"
   ]
  },
  {
   "cell_type": "code",
   "execution_count": 36,
   "id": "1de5c1e9",
   "metadata": {},
   "outputs": [
    {
     "data": {
      "text/plain": [
       "Interjet    2\n",
       "Aeromar     1\n",
       "Name: aerolinea, dtype: int64"
      ]
     },
     "execution_count": 36,
     "metadata": {},
     "output_type": "execute_result"
    }
   ],
   "source": [
    "df[df['fecha'] == '2021-05-04']['aerolinea'].value_counts()"
   ]
  },
  {
   "cell_type": "code",
   "execution_count": 37,
   "id": "39d9ef3d",
   "metadata": {},
   "outputs": [],
   "source": [
    "# segunda fecha"
   ]
  },
  {
   "cell_type": "code",
   "execution_count": 38,
   "id": "88cf1959",
   "metadata": {},
   "outputs": [
    {
     "data": {
      "text/html": [
       "<div>\n",
       "<style scoped>\n",
       "    .dataframe tbody tr th:only-of-type {\n",
       "        vertical-align: middle;\n",
       "    }\n",
       "\n",
       "    .dataframe tbody tr th {\n",
       "        vertical-align: top;\n",
       "    }\n",
       "\n",
       "    .dataframe thead th {\n",
       "        text-align: right;\n",
       "    }\n",
       "</style>\n",
       "<table border=\"1\" class=\"dataframe\">\n",
       "  <thead>\n",
       "    <tr style=\"text-align: right;\">\n",
       "      <th></th>\n",
       "      <th>aerolinea</th>\n",
       "      <th>aeropuerto</th>\n",
       "      <th>movimiento</th>\n",
       "      <th>fecha</th>\n",
       "    </tr>\n",
       "  </thead>\n",
       "  <tbody>\n",
       "    <tr>\n",
       "      <th>0</th>\n",
       "      <td>Volaris</td>\n",
       "      <td>Benito Juarez</td>\n",
       "      <td>Salida</td>\n",
       "      <td>2021-05-02</td>\n",
       "    </tr>\n",
       "    <tr>\n",
       "      <th>1</th>\n",
       "      <td>Aeromar</td>\n",
       "      <td>Benito Juarez</td>\n",
       "      <td>Salida</td>\n",
       "      <td>2021-05-02</td>\n",
       "    </tr>\n",
       "    <tr>\n",
       "      <th>2</th>\n",
       "      <td>Interjet</td>\n",
       "      <td>Guanajuato</td>\n",
       "      <td>Llegada</td>\n",
       "      <td>2021-05-02</td>\n",
       "    </tr>\n",
       "    <tr>\n",
       "      <th>3</th>\n",
       "      <td>Aeromexico</td>\n",
       "      <td>La paz</td>\n",
       "      <td>Llegada</td>\n",
       "      <td>2021-05-02</td>\n",
       "    </tr>\n",
       "    <tr>\n",
       "      <th>4</th>\n",
       "      <td>Volaris</td>\n",
       "      <td>La paz</td>\n",
       "      <td>Llegada</td>\n",
       "      <td>2021-05-02</td>\n",
       "    </tr>\n",
       "    <tr>\n",
       "      <th>5</th>\n",
       "      <td>Aeromar</td>\n",
       "      <td>Benito Juarez</td>\n",
       "      <td>Salida</td>\n",
       "      <td>2021-05-02</td>\n",
       "    </tr>\n",
       "  </tbody>\n",
       "</table>\n",
       "</div>"
      ],
      "text/plain": [
       "    aerolinea     aeropuerto movimiento      fecha\n",
       "0     Volaris  Benito Juarez     Salida 2021-05-02\n",
       "1     Aeromar  Benito Juarez     Salida 2021-05-02\n",
       "2    Interjet     Guanajuato    Llegada 2021-05-02\n",
       "3  Aeromexico         La paz    Llegada 2021-05-02\n",
       "4     Volaris         La paz    Llegada 2021-05-02\n",
       "5     Aeromar  Benito Juarez     Salida 2021-05-02"
      ]
     },
     "execution_count": 38,
     "metadata": {},
     "output_type": "execute_result"
    }
   ],
   "source": [
    "df[df['fecha'] == '2021-05-02']"
   ]
  },
  {
   "cell_type": "code",
   "execution_count": 39,
   "id": "2c34420b",
   "metadata": {},
   "outputs": [
    {
     "data": {
      "text/plain": [
       "0       Volaris\n",
       "1       Aeromar\n",
       "2      Interjet\n",
       "3    Aeromexico\n",
       "4       Volaris\n",
       "5       Aeromar\n",
       "Name: aerolinea, dtype: object"
      ]
     },
     "execution_count": 39,
     "metadata": {},
     "output_type": "execute_result"
    }
   ],
   "source": [
    "df[df['fecha'] == '2021-05-02']['aerolinea']"
   ]
  },
  {
   "cell_type": "code",
   "execution_count": 40,
   "id": "6cda57e2",
   "metadata": {},
   "outputs": [
    {
     "data": {
      "text/plain": [
       "Volaris       2\n",
       "Aeromar       2\n",
       "Interjet      1\n",
       "Aeromexico    1\n",
       "Name: aerolinea, dtype: int64"
      ]
     },
     "execution_count": 40,
     "metadata": {},
     "output_type": "execute_result"
    }
   ],
   "source": [
    "df[df['fecha'] == '2021-05-02']['aerolinea'].value_counts()"
   ]
  },
  {
   "cell_type": "code",
   "execution_count": null,
   "id": "ff006e42",
   "metadata": {},
   "outputs": [],
   "source": []
  },
  {
   "cell_type": "code",
   "execution_count": null,
   "id": "aa6472cb",
   "metadata": {},
   "outputs": [],
   "source": []
  },
  {
   "cell_type": "code",
   "execution_count": null,
   "id": "f5096024",
   "metadata": {},
   "outputs": [],
   "source": []
  }
 ],
 "metadata": {
  "kernelspec": {
   "display_name": "Python 3 (ipykernel)",
   "language": "python",
   "name": "python3"
  },
  "language_info": {
   "codemirror_mode": {
    "name": "ipython",
    "version": 3
   },
   "file_extension": ".py",
   "mimetype": "text/x-python",
   "name": "python",
   "nbconvert_exporter": "python",
   "pygments_lexer": "ipython3",
   "version": "3.9.7"
  }
 },
 "nbformat": 4,
 "nbformat_minor": 5
}
